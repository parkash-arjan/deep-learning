{
 "nbformat": 4,
 "nbformat_minor": 2,
 "metadata": {
  "language_info": {
   "name": "python",
   "codemirror_mode": {
    "name": "ipython",
    "version": 3
   }
  },
  "orig_nbformat": 2,
  "file_extension": ".py",
  "mimetype": "text/x-python",
  "name": "python",
  "npconvert_exporter": "python",
  "pygments_lexer": "ipython3",
  "version": 3
 },
 "cells": [
  {
   "cell_type": "code",
   "execution_count": 158,
   "metadata": {},
   "outputs": [],
   "source": [
    "%matplotlib inline\n",
    "%config InlineBackend.figure_format = 'retina'\n",
    "\n",
    "import numpy as np\n",
    "import torch\n",
    "from torchvision import datasets, transforms\n",
    " "
   ]
  },
  {
   "cell_type": "code",
   "execution_count": 159,
   "metadata": {},
   "outputs": [],
   "source": [
    "def activation(x):\n",
    "    return 1/(1+torch.exp(-x))"
   ]
  },
  {
   "cell_type": "code",
   "execution_count": 160,
   "metadata": {},
   "outputs": [],
   "source": [
    "# Define a transform to normalize the data\n",
    "transform = transforms.Compose([transforms.ToTensor(),\n",
    "                              transforms.Normalize((0.5,), (0.5,)),\n",
    "                              ])\n",
    "\n",
    "# Download and load the training data\n",
    "trainset = datasets.MNIST('./MNIST_data/', download=True, train=True, transform=transform)\n",
    "trainloader = torch.utils.data.DataLoader(trainset, batch_size=64, shuffle=True)"
   ]
  },
  {
   "cell_type": "code",
   "execution_count": 161,
   "metadata": {},
   "outputs": [
    {
     "name": "stdout",
     "output_type": "stream",
     "text": "<class 'torch.Tensor'>\ntorch.Size([64, 1, 28, 28])\ntorch.Size([64])\n"
    }
   ],
   "source": [
    "dataiter = iter(trainloader)\n",
    "images, labels = dataiter.next()\n",
    "print(type(images))\n",
    "print(images.shape)\n",
    "print(labels.shape)"
   ]
  },
  {
   "cell_type": "code",
   "execution_count": 162,
   "metadata": {},
   "outputs": [
    {
     "data": {
      "text/plain": "<matplotlib.image.AxesImage at 0x1cdce129240>"
     },
     "execution_count": 162,
     "metadata": {},
     "output_type": "execute_result"
    },
    {
     "data": {
      "image/png": "[encoded data removed]",
      "text/plain": "<Figure size 432x288 with 1 Axes>"
     },
     "metadata": {
      "image/png": {
       "height": 248,
       "width": 251
      },
      "needs_background": "dark"
     },
     "output_type": "display_data"
    }
   ],
   "source": [
    "plt.imshow(images[1].numpy().squeeze(), cmap='Greys_r')"
   ]
  },
  {
   "cell_type": "code",
   "execution_count": 163,
   "metadata": {},
   "outputs": [],
   "source": [
    "input_unit = 784\n",
    "hidden_unit = 256\n",
    "output_unit = 10\n",
    "input_hidden_weights = torch.randn((784, 256))\n",
    "hidden_out_weights = torch.randn((256, 10))\n",
    "\n",
    "bias_input_hidden = torch.randn((1, 256))\n",
    "bias_hidden_output = torch.randn((1, 10))\n"
   ]
  },
  {
   "cell_type": "code",
   "execution_count": 164,
   "metadata": {},
   "outputs": [],
   "source": [
    "features = images.view(64,784)  "
   ]
  },
  {
   "cell_type": "code",
   "execution_count": 165,
   "metadata": {},
   "outputs": [],
   "source": [
    "input_hidden_layer  = activation(torch.mm(features , input_hidden_weights)   + bias_input_hidden )\n",
    "hidden_output_layer  = torch.mm(input_hidden_layer , hidden_out_weights)   + bias_hidden_output "
   ]
  },
  {
   "cell_type": "code",
   "execution_count": 166,
   "metadata": {},
   "outputs": [
    {
     "name": "stdout",
     "output_type": "stream",
     "text": "torch.Size([64, 256])\ntensor([[ 0.0000,  0.0000,  1.0000,  ...,  1.0000,  0.4960,  1.0000],\n        [ 0.9919,  0.0000,  1.0000,  ...,  0.9915,  0.0000,  0.0000],\n        [ 0.0000,  0.0000,  1.0000,  ...,  1.0000,  0.0000,  1.0000],\n        ...,\n        [ 0.0000,  0.0000,  0.9999,  ...,  1.0000,  0.4503,  0.0319],\n        [ 0.0031,  0.0000,  1.0000,  ...,  1.0000,  1.0000,  1.0000],\n        [ 0.0000,  0.0000,  1.0000,  ...,  1.0000,  1.0000,  0.9999]])\n"
    }
   ],
   "source": [
    "print(input_hidden_layer.shape)\n",
    "print(input_hidden_layer)"
   ]
  },
  {
   "cell_type": "code",
   "execution_count": 167,
   "metadata": {},
   "outputs": [],
   "source": [
    "def softmax(x):\n",
    "    return torch.exp(x)/torch.sum(torch.exp(x), dim=1).view(-1, 1)"
   ]
  },
  {
   "cell_type": "code",
   "execution_count": 168,
   "metadata": {},
   "outputs": [
    {
     "name": "stdout",
     "output_type": "stream",
     "text": "tensor([[ 4.0376e-09,  1.9867e-05,  1.2685e-09,  9.9944e-01,  5.3043e-06,\n          5.3144e-04,  3.5588e-11,  7.8096e-10,  2.9048e-18,  4.3658e-08],\n        [ 2.0195e-04,  7.1609e-01,  1.0537e-06,  2.8303e-01,  6.8240e-04,\n          2.8682e-07,  1.0620e-09,  2.2209e-08,  2.6545e-17,  5.1047e-10],\n        [ 9.0691e-11,  4.2472e-09,  6.2018e-10,  8.3387e-05,  3.0786e-04,\n          9.9961e-01,  7.0284e-14,  4.8742e-12,  1.6411e-18,  5.1220e-07],\n        [ 2.0104e-05,  2.0307e-04,  3.4585e-04,  9.9784e-01,  5.1858e-04,\n          1.0754e-03,  3.0692e-09,  4.0518e-07,  7.3797e-17,  8.2197e-07],\n        [ 1.9144e-11,  4.0474e-08,  4.8482e-10,  1.0000e+00,  1.8065e-11,\n          2.4774e-09,  9.7012e-13,  1.4452e-11,  7.8666e-19,  2.0875e-12],\n        [ 5.4839e-10,  7.1546e-01,  2.3566e-05,  2.5516e-01,  3.2623e-08,\n          2.9353e-02,  8.1575e-08,  2.9190e-07,  1.3116e-15,  4.1057e-06],\n        [ 6.4377e-03,  1.3238e-02,  3.1815e-02,  8.0240e-01,  2.5784e-07,\n          1.4590e-01,  2.0798e-04,  2.9530e-11,  7.8417e-15,  2.5408e-10],\n        [ 5.3677e-07,  2.1124e-06,  5.2462e-11,  9.9999e-01,  8.3068e-06,\n          2.2978e-09,  1.2349e-09,  2.0326e-12,  3.7551e-19,  1.1914e-09],\n        [ 5.2197e-08,  2.3470e-01,  2.8446e-04,  1.3078e-02,  3.6268e-04,\n          7.2033e-01,  1.2893e-09,  2.2838e-04,  5.4432e-16,  3.1023e-02],\n        [ 1.2879e-03,  1.9465e-01,  9.1568e-05,  8.0342e-01,  9.5034e-06,\n          2.4741e-04,  9.8311e-09,  2.9845e-04,  1.3350e-16,  3.5239e-07],\n        [ 5.4197e-08,  6.6578e-04,  1.0416e-01,  8.9472e-01,  8.9579e-06,\n          1.1994e-04,  3.2220e-04,  1.6719e-07,  4.1070e-18,  4.2152e-06],\n        [ 6.8419e-10,  5.9302e-07,  4.5746e-10,  1.0000e+00,  1.9870e-12,\n          1.2979e-06,  2.3695e-09,  2.0711e-17,  5.2459e-25,  7.0670e-13],\n        [ 2.7568e-06,  6.7294e-03,  3.9731e-03,  9.8923e-01,  5.9433e-05,\n          3.9511e-06,  2.3188e-08,  5.1936e-09,  2.5951e-15,  1.2939e-08],\n        [ 7.8693e-11,  3.1029e-05,  1.2432e-08,  9.9931e-01,  1.4603e-09,\n          6.5561e-04,  3.6716e-07,  1.2513e-07,  5.5143e-16,  7.6557e-10],\n        [ 3.4173e-01,  2.4274e-04,  3.6877e-03,  4.3617e-02,  3.7394e-01,\n          2.3406e-01,  2.7019e-03,  3.7102e-09,  4.6118e-16,  1.0114e-05],\n        [ 1.1255e-08,  1.5931e-06,  2.7643e-06,  9.0895e-01,  2.1701e-06,\n          9.0938e-02,  2.1226e-08,  1.7780e-09,  1.4327e-14,  1.0157e-04],\n        [ 1.8821e-04,  2.4850e-04,  1.9217e-07,  9.9681e-01,  3.4983e-09,\n          1.1001e-06,  1.9714e-09,  3.3432e-11,  3.2482e-13,  2.7558e-03],\n        [ 4.3642e-06,  4.1298e-01,  1.7773e-02,  5.6853e-01,  1.0258e-06,\n          3.4828e-04,  9.4962e-07,  3.0215e-07,  4.3089e-17,  3.5466e-04],\n        [ 2.6219e-04,  2.8343e-03,  4.0815e-07,  3.2657e-01,  2.3885e-01,\n          4.2785e-01,  5.2683e-13,  2.1767e-10,  1.0816e-17,  3.6447e-03],\n        [ 1.3189e-10,  5.0832e-12,  1.2477e-14,  1.0000e+00,  7.1993e-10,\n          2.2121e-08,  8.9523e-11,  4.7424e-13,  4.4773e-22,  7.0654e-11],\n        [ 2.1333e-06,  9.3635e-08,  5.0232e-07,  9.5917e-01,  3.5869e-07,\n          4.0616e-02,  2.1815e-09,  8.2258e-10,  1.8303e-18,  2.0841e-04],\n        [ 1.1336e-13,  1.0709e-05,  2.3902e-09,  9.7095e-01,  6.7729e-05,\n          2.8973e-02,  6.9032e-12,  1.5983e-11,  8.8751e-19,  1.4758e-06],\n        [ 2.0499e-08,  1.8993e-07,  4.8396e-10,  1.0000e+00,  2.7821e-09,\n          7.9400e-08,  2.7199e-13,  2.4160e-10,  1.3760e-20,  1.5179e-10],\n        [ 5.5236e-04,  2.5814e-02,  3.0977e-02,  4.2657e-01,  4.8090e-03,\n          4.8632e-01,  5.8980e-11,  1.3526e-02,  4.4015e-18,  1.1433e-02],\n        [ 2.9332e-09,  1.3033e-01,  2.9898e-01,  6.0781e-03,  5.6446e-01,\n          1.3865e-04,  3.8376e-09,  7.5016e-09,  1.0349e-15,  7.3827e-06],\n        [ 1.3199e-07,  1.9167e-05,  6.1504e-07,  5.0572e-03,  9.8733e-01,\n          7.5614e-03,  8.6889e-07,  2.0723e-05,  2.2078e-15,  9.8366e-06],\n        [ 4.7901e-02,  3.1154e-04,  5.6938e-04,  5.5551e-01,  1.0132e-04,\n          3.9559e-01,  6.3006e-06,  1.3446e-07,  1.0845e-14,  9.9716e-06],\n        [ 1.5541e-03,  1.6164e-11,  5.9834e-09,  9.9842e-01,  2.1939e-06,\n          2.8093e-05,  3.7527e-07,  1.1829e-08,  1.4944e-15,  1.5076e-07],\n        [ 2.8009e-11,  7.3044e-07,  3.2336e-08,  1.0000e+00,  9.2892e-08,\n          1.7343e-09,  6.4829e-13,  4.9498e-13,  3.6844e-21,  1.7122e-11],\n        [ 1.0270e-09,  9.2144e-01,  1.1269e-07,  7.8421e-02,  1.3244e-04,\n          2.4836e-10,  4.0347e-06,  4.8791e-08,  2.0092e-16,  1.0157e-08],\n        [ 5.1636e-08,  8.1264e-04,  2.7149e-03,  1.9514e-04,  1.7522e-07,\n          9.9623e-01,  1.1671e-10,  4.3336e-05,  7.5928e-13,  6.0832e-06],\n        [ 8.1490e-08,  6.8097e-05,  6.5775e-08,  7.5265e-04,  1.1048e-04,\n          9.9907e-01,  4.4706e-12,  4.9881e-14,  2.4769e-17,  3.9757e-09],\n        [ 4.8036e-12,  3.5823e-07,  1.6036e-06,  9.9987e-01,  3.7651e-06,\n          1.2020e-04,  1.8022e-11,  9.9745e-09,  2.5840e-20,  5.9019e-09],\n        [ 2.1448e-10,  2.5388e-08,  4.2190e-10,  9.9998e-01,  9.8452e-07,\n          1.5949e-08,  2.8756e-06,  9.6569e-12,  6.7205e-20,  1.4618e-05],\n        [ 9.9816e-06,  6.8412e-05,  5.9974e-08,  4.1216e-04,  1.1408e-02,\n          9.8810e-01,  4.3664e-11,  5.6865e-09,  3.7047e-19,  9.7445e-09],\n        [ 9.9559e-05,  3.0948e-04,  1.7946e-04,  6.3637e-01,  1.7781e-01,\n          1.8523e-01,  3.2148e-06,  6.2442e-14,  6.2545e-13,  1.4698e-07],\n        [ 6.8286e-07,  2.3129e-04,  2.9637e-05,  2.9315e-02,  2.0991e-03,\n          9.6816e-01,  5.8166e-09,  6.8961e-06,  3.1976e-15,  1.6102e-04],\n        [ 1.6086e-08,  6.7641e-04,  2.0677e-05,  2.1570e-01,  3.8671e-07,\n          7.8358e-01,  1.5218e-05,  3.1275e-06,  1.0983e-13,  4.3117e-06],\n        [ 6.5171e-04,  1.7222e-03,  4.1750e-07,  9.5858e-01,  7.1795e-05,\n          3.8974e-02,  6.3155e-08,  1.7779e-09,  1.5600e-18,  8.9371e-08],\n        [ 2.6224e-09,  7.9396e-07,  1.0301e-07,  9.9917e-01,  4.1231e-07,\n          7.7233e-04,  3.4177e-11,  6.0523e-09,  9.3196e-17,  5.6620e-05],\n        [ 1.0501e-06,  9.9760e-01,  3.8903e-04,  2.0111e-03,  6.8507e-11,\n          1.4743e-06,  3.1335e-08,  7.6820e-09,  3.9423e-18,  1.1421e-06],\n        [ 1.1922e-11,  3.1053e-05,  1.9576e-12,  9.9995e-01,  3.0467e-09,\n          1.6776e-05,  3.0390e-11,  3.7561e-10,  2.2765e-21,  3.8229e-10],\n        [ 2.5356e-04,  1.3267e-07,  5.9578e-07,  4.2191e-01,  3.2699e-01,\n          1.7392e-01,  7.6909e-08,  7.6900e-02,  1.0082e-14,  2.2777e-05],\n        [ 4.4292e-06,  2.4703e-02,  4.2172e-08,  9.7409e-01,  1.1894e-03,\n          8.1148e-06,  3.7367e-06,  1.6385e-08,  6.3949e-18,  1.9895e-10],\n        [ 6.3854e-04,  3.2535e-04,  2.8842e-09,  9.9903e-01,  3.8072e-09,\n          1.0263e-05,  9.5510e-09,  1.0623e-09,  1.7169e-17,  3.7154e-07],\n        [ 1.6489e-10,  1.6387e-06,  2.1122e-07,  9.4412e-06,  5.5220e-09,\n          9.9999e-01,  5.4439e-14,  5.3869e-08,  2.0541e-19,  2.3806e-06],\n        [ 7.5720e-07,  4.2329e-05,  7.8371e-07,  9.9986e-01,  1.2419e-06,\n          9.6804e-05,  3.1074e-09,  1.1226e-09,  2.2451e-18,  1.6574e-06],\n        [ 1.6584e-09,  3.7005e-07,  1.0518e-08,  7.9052e-04,  9.9920e-01,\n          6.2978e-06,  6.3395e-09,  4.7870e-09,  3.2226e-20,  2.2641e-08],\n        [ 4.5828e-05,  4.2621e-02,  1.0876e-05,  6.3845e-02,  3.4368e-06,\n          8.9347e-01,  1.8466e-09,  1.9233e-06,  1.5632e-15,  4.1802e-07],\n        [ 8.7226e-05,  5.7056e-06,  6.5849e-04,  9.9923e-01,  1.3692e-06,\n          3.3028e-08,  4.8949e-08,  2.8461e-11,  1.9258e-19,  1.5664e-05],\n        [ 1.4753e-03,  1.5846e-05,  4.6608e-01,  1.8015e-01,  3.4388e-01,\n          6.5929e-03,  3.2609e-08,  2.4290e-07,  7.1487e-16,  1.8012e-03],\n        [ 2.2541e-11,  2.9074e-05,  1.4240e-10,  2.2830e-05,  5.2124e-04,\n          9.9943e-01,  2.0345e-13,  1.0916e-11,  5.8925e-20,  1.3350e-07],\n        [ 8.2526e-10,  1.1557e-03,  2.6528e-03,  3.3584e-01,  3.8769e-04,\n          6.5763e-01,  2.1217e-09,  2.3118e-03,  2.9652e-13,  2.3542e-05],\n        [ 2.2033e-06,  2.9140e-02,  1.2558e-03,  7.8976e-01,  2.0158e-06,\n          1.7794e-03,  5.6944e-06,  2.7614e-06,  1.0298e-17,  1.7805e-01],\n        [ 1.3405e-05,  1.1285e-02,  1.1686e-06,  9.8791e-01,  7.8345e-04,\n          1.6767e-07,  1.2225e-06,  6.8375e-10,  1.6066e-16,  8.4056e-08],\n        [ 1.7798e-03,  4.4700e-03,  2.1759e-05,  4.7087e-03,  1.4253e-02,\n          9.7464e-01,  1.2378e-04,  6.3906e-10,  1.5675e-09,  1.5670e-06],\n        [ 3.8704e-05,  8.6278e-06,  1.0333e-04,  4.8548e-01,  2.4446e-06,\n          5.1436e-01,  6.8093e-07,  1.5298e-12,  1.8516e-12,  6.1330e-07],\n        [ 1.7634e-09,  3.4822e-06,  1.5273e-07,  9.4536e-01,  1.0351e-09,\n          5.4639e-02,  1.3252e-07,  9.7062e-08,  1.2733e-14,  2.2665e-07],\n        [ 2.4325e-08,  1.1028e-05,  4.9858e-07,  9.4848e-01,  9.4809e-09,\n          5.1503e-02,  1.1825e-09,  2.6261e-11,  7.3410e-17,  1.4236e-06],\n        [ 1.9243e-08,  1.7699e-03,  4.1852e-07,  1.4112e-03,  9.9597e-01,\n          8.4783e-04,  4.3543e-12,  6.7359e-13,  3.1544e-22,  5.8202e-08],\n        [ 7.3568e-08,  1.3386e-01,  1.0292e-04,  8.6595e-01,  1.1176e-10,\n          4.6251e-05,  3.3995e-06,  1.6107e-06,  1.0482e-17,  3.0839e-05],\n        [ 3.8491e-04,  5.9524e-05,  2.3772e-03,  9.9680e-01,  5.5228e-08,\n          2.9776e-04,  7.5472e-05,  2.1766e-08,  3.7620e-14,  9.3106e-06],\n        [ 3.7300e-08,  4.3482e-06,  3.7312e-07,  9.9998e-01,  1.1594e-05,\n          1.7798e-07,  7.7946e-11,  9.8755e-11,  2.1056e-19,  3.3227e-06],\n        [ 6.0337e-07,  9.9134e-05,  8.6577e-06,  9.9989e-01,  1.0155e-08,\n          5.4812e-06,  1.0359e-09,  1.6450e-07,  4.8718e-18,  1.5690e-07]])\ntorch.Size([64, 10])\ntensor([ 1.0000,  1.0000,  1.0000,  1.0000,  1.0000,  1.0000,  1.0000,\n         1.0000,  1.0000,  1.0000,  1.0000,  1.0000,  1.0000,  1.0000,\n         1.0000,  1.0000,  1.0000,  1.0000,  1.0000,  1.0000,  1.0000,\n         1.0000,  1.0000,  1.0000,  1.0000,  1.0000,  1.0000,  1.0000,\n         1.0000,  1.0000,  1.0000,  1.0000,  1.0000,  1.0000,  1.0000,\n         1.0000,  1.0000,  1.0000,  1.0000,  1.0000,  1.0000,  1.0000,\n         1.0000,  1.0000,  1.0000,  1.0000,  1.0000,  1.0000,  1.0000,\n         1.0000,  1.0000,  1.0000,  1.0000,  1.0000,  1.0000,  1.0000,\n         1.0000,  1.0000,  1.0000,  1.0000,  1.0000,  1.0000,  1.0000,\n         1.0000])\ntorch.Size([64])\n"
    }
   ],
   "source": [
    "y_hat = softmax(hidden_output_layer)\n",
    "print(y_hat)\n",
    "print(y_hat.shape)\n",
    "print(y_hat.sum(dim=1))\n",
    "print(y_hat.sum(dim=1).shape) #should have 1 row and 64 columns."
   ]
  },
  {
   "cell_type": "code",
   "execution_count": null,
   "metadata": {},
   "outputs": [],
   "source": []
  }
 ]
}