{
 "nbformat": 4,
 "nbformat_minor": 2,
 "metadata": {
  "language_info": {
   "name": "python",
   "codemirror_mode": {
    "name": "ipython",
    "version": 3
   }
  },
  "orig_nbformat": 2,
  "file_extension": ".py",
  "mimetype": "text/x-python",
  "name": "python",
  "npconvert_exporter": "python",
  "pygments_lexer": "ipython3",
  "version": 3
 },
 "cells": [
  {
   "cell_type": "code",
   "execution_count": 1,
   "metadata": {},
   "outputs": [],
   "source": [
    "import torch"
   ]
  },
  {
   "cell_type": "code",
   "execution_count": 2,
   "metadata": {},
   "outputs": [],
   "source": [
    "def activation(x):\n",
    "    \"\"\" Sigmoid activation function \n",
    "    \n",
    "        Arguments\n",
    "        ---------\n",
    "        x: torch.Tensor\n",
    "    \"\"\"\n",
    "    return 1/(1+torch.exp(-x))"
   ]
  },
  {
   "cell_type": "code",
   "execution_count": 11,
   "metadata": {},
   "outputs": [],
   "source": [
    "### Generate some data\n",
    "torch.manual_seed(7) # Set the random seed so things are predictable\n",
    "\n",
    "# Features are 3 random normal variables\n",
    "features = torch.randn((1, 5))\n",
    "# True weights for our data, random normal variables again\n",
    "weights = torch.randn_like(features)\n",
    "# and a true bias term\n",
    "bias = torch.randn((1, 1))"
   ]
  },
  {
   "cell_type": "code",
   "execution_count": 12,
   "metadata": {},
   "outputs": [
    {
     "name": "stdout",
     "output_type": "stream",
     "text": "tensor([[-0.1468,  0.7861,  0.9468, -1.1143,  1.6908]])\ntensor([[-0.8948, -0.3556,  1.2324,  0.1382, -1.6822]])\ntensor([[ 0.3177]])\n"
    }
   ],
   "source": [
    "print(features)\n",
    "print(weights)\n",
    "print(bias)"
   ]
  },
  {
   "cell_type": "code",
   "execution_count": 4,
   "metadata": {},
   "outputs": [
    {
     "name": "stdout",
     "output_type": "stream",
     "text": "Linear Combination\ntensor(-1.9796)\nNeuron Output\ntensor([[ 0.1595]])\n"
    }
   ],
   "source": [
    "## Calculate the output of this network using the weights and bias tensors\n",
    "linear_combination = (features*weights).sum()\n",
    "print(\"Linear Combination\")\n",
    "print(linear_combination)\n",
    "out_put = activation(linear_combination + bias)\n",
    "print(\"Neuron Output\")\n",
    "print(out_put)\n",
    "#print(torch.mm(features , weights))"
   ]
  },
  {
   "cell_type": "code",
   "execution_count": 17,
   "metadata": {},
   "outputs": [
    {
     "data": {
      "text/plain": "tensor([[ 0.1595]])"
     },
     "execution_count": 17,
     "metadata": {},
     "output_type": "execute_result"
    }
   ],
   "source": [
    "activation (torch.mm(features,weights.view(5,1)).add(bias))"
   ]
  },
  {
   "cell_type": "code",
   "execution_count": 6,
   "metadata": {},
   "outputs": [
    {
     "name": "stdout",
     "output_type": "stream",
     "text": "tensor([[ 0.1328,  0.1373,  0.2405],\n        [ 1.3955,  1.3470,  2.4382]])\ntorch.Size([2, 3])\n"
    }
   ],
   "source": [
    "two_by_three_matrix = features = torch.randn((2,3))\n",
    "print(two_by_three_matrix)\n",
    "print(two_by_three_matrix.shape)"
   ]
  }
 ]
}